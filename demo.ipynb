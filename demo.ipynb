{
  "cells": [
    {
      "cell_type": "markdown",
      "metadata": {
        "id": "view-in-github",
        "colab_type": "text"
      },
      "source": [
        "<a href=\"https://colab.research.google.com/github/asritha18/YouTube-Transcript-Summarizer/blob/main/demo.ipynb\" target=\"_parent\"><img src=\"https://colab.research.google.com/assets/colab-badge.svg\" alt=\"Open In Colab\"/></a>"
      ]
    },
    {
      "cell_type": "code",
      "execution_count": null,
      "metadata": {
        "id": "qI4ryITR0obG"
      },
      "outputs": [],
      "source": [
        "def postSummaryWithBart(blog_link):\n",
        "    # importing libraries\n",
        "    from transformers import pipeline\n",
        "    from bs4 import BeautifulSoup\n",
        "    import requests\n",
        "\n",
        "    # loading summarization pipeline\n",
        "    summarizer = pipeline(\"summarization\")\n",
        "\n",
        "    # getting our blog post\n",
        "    URL = blog_link\n",
        "    r = requests.get(URL)\n",
        "    soup = BeautifulSoup(r.text, 'html.parser')\n",
        "    results = soup.find_all(['h1', 'p'])\n",
        "    text = [result.text for result in results]\n",
        "    ARTICLE = ' '.join(text)\n",
        "\n",
        "    # replacing punctuations with end-of-sentence tags\n",
        "    ARTICLE = ARTICLE.replace('.', '.')\n",
        "    ARTICLE = ARTICLE.replace('?', '.')\n",
        "    ARTICLE = ARTICLE.replace('!', '.')\n",
        "    sentences = ARTICLE.split(' ')\n",
        "\n",
        "    # chunking text\n",
        "    max_chunk = 500\n",
        "    current_chunk = 0\n",
        "    chunks = []\n",
        "    for sentence in sentences:\n",
        "        # checking if we have an empty chunk\n",
        "        if len(chunks) == current_chunk + 1:\n",
        "            if len(chunks[current_chunk]) + len(sentence.split(' ')) <= max_chunk:\n",
        "                chunks[current_chunk].extend(sentence.split(' '))\n",
        "            else:\n",
        "                current_chunk += 1\n",
        "                chunks.append(sentence.split(' '))\n",
        "        else:\n",
        "            print(current_chunk)\n",
        "            chunks.append(sentence.split(' '))\n",
        "    for chunk_id in range(len(chunks)):\n",
        "        chunks[chunk_id] =  ''.join(chunks[chunk_id])\n",
        "\n",
        "    # summarizing text\n",
        "    res = summarizer(chunks, max_length=70, min_length=30, do_sample=False)\n",
        "    text = ''.join([summ['summary_text'] for summ in res])\n",
        "\n",
        "    # returning summary\n",
        "    return text"
      ]
    },
    {
      "cell_type": "code",
      "execution_count": null,
      "metadata": {
        "id": "8K4eLZyV0obL",
        "outputId": "c3791a14-76b4-4435-db9b-8d44610e3bbd"
      },
      "outputs": [
        {
          "name": "stderr",
          "output_type": "stream",
          "text": [
            "No model was supplied, defaulted to sshleifer/distilbart-cnn-12-6 and revision a4f8f3e (https://huggingface.co/sshleifer/distilbart-cnn-12-6).\n",
            "Using a pipeline without specifying a model name and revision in production is not recommended.\n"
          ]
        },
        {
          "ename": "TypeError",
          "evalue": "'int' object is not callable",
          "output_type": "error",
          "traceback": [
            "\u001b[1;31m---------------------------------------------------------------------------\u001b[0m",
            "\u001b[1;31mTypeError\u001b[0m                                 Traceback (most recent call last)",
            "\u001b[1;32m~\\AppData\\Local\\Temp\\ipykernel_9700\\3626177511.py\u001b[0m in \u001b[0;36m<module>\u001b[1;34m\u001b[0m\n\u001b[1;32m----> 1\u001b[1;33m \u001b[0mpostSummaryWithBart\u001b[0m\u001b[1;33m(\u001b[0m\u001b[1;34m\"https://www.health.harvard.edu/blog\"\u001b[0m\u001b[1;33m)\u001b[0m\u001b[1;33m\u001b[0m\u001b[1;33m\u001b[0m\u001b[0m\n\u001b[0m",
            "\u001b[1;32m~\\AppData\\Local\\Temp\\ipykernel_9700\\3138682565.py\u001b[0m in \u001b[0;36mpostSummaryWithBart\u001b[1;34m(blog_link)\u001b[0m\n\u001b[0;32m     28\u001b[0m     \u001b[1;32mfor\u001b[0m \u001b[0msentence\u001b[0m \u001b[1;32min\u001b[0m \u001b[0msentences\u001b[0m\u001b[1;33m:\u001b[0m\u001b[1;33m\u001b[0m\u001b[1;33m\u001b[0m\u001b[0m\n\u001b[0;32m     29\u001b[0m         \u001b[1;31m# checking if we have an empty chunk\u001b[0m\u001b[1;33m\u001b[0m\u001b[1;33m\u001b[0m\u001b[1;33m\u001b[0m\u001b[0m\n\u001b[1;32m---> 30\u001b[1;33m         \u001b[1;32mif\u001b[0m \u001b[0mlen\u001b[0m\u001b[1;33m(\u001b[0m\u001b[0mchunks\u001b[0m\u001b[1;33m)\u001b[0m \u001b[1;33m==\u001b[0m \u001b[0mcurrent_chunk\u001b[0m \u001b[1;33m+\u001b[0m \u001b[1;36m1\u001b[0m\u001b[1;33m:\u001b[0m\u001b[1;33m\u001b[0m\u001b[1;33m\u001b[0m\u001b[0m\n\u001b[0m\u001b[0;32m     31\u001b[0m             \u001b[1;32mif\u001b[0m \u001b[0mlen\u001b[0m\u001b[1;33m(\u001b[0m\u001b[0mchunks\u001b[0m\u001b[1;33m[\u001b[0m\u001b[0mcurrent_chunk\u001b[0m\u001b[1;33m]\u001b[0m\u001b[1;33m)\u001b[0m \u001b[1;33m+\u001b[0m \u001b[0mlen\u001b[0m\u001b[1;33m(\u001b[0m\u001b[0msentence\u001b[0m\u001b[1;33m.\u001b[0m\u001b[0msplit\u001b[0m\u001b[1;33m(\u001b[0m\u001b[1;34m' '\u001b[0m\u001b[1;33m)\u001b[0m\u001b[1;33m)\u001b[0m \u001b[1;33m<=\u001b[0m \u001b[0mmax_chunk\u001b[0m\u001b[1;33m:\u001b[0m\u001b[1;33m\u001b[0m\u001b[1;33m\u001b[0m\u001b[0m\n\u001b[0;32m     32\u001b[0m                 \u001b[0mchunks\u001b[0m\u001b[1;33m[\u001b[0m\u001b[0mcurrent_chunk\u001b[0m\u001b[1;33m]\u001b[0m\u001b[1;33m.\u001b[0m\u001b[0mextend\u001b[0m\u001b[1;33m(\u001b[0m\u001b[0msentence\u001b[0m\u001b[1;33m.\u001b[0m\u001b[0msplit\u001b[0m\u001b[1;33m(\u001b[0m\u001b[1;34m' '\u001b[0m\u001b[1;33m)\u001b[0m\u001b[1;33m)\u001b[0m\u001b[1;33m\u001b[0m\u001b[1;33m\u001b[0m\u001b[0m\n",
            "\u001b[1;31mTypeError\u001b[0m: 'int' object is not callable"
          ]
        }
      ],
      "source": [
        "postSummaryWithBart(\"https://www.health.harvard.edu/blog\")"
      ]
    },
    {
      "cell_type": "code",
      "execution_count": null,
      "metadata": {
        "id": "eH5kT_ql0obN"
      },
      "outputs": [],
      "source": [
        "    from transformers import pipeline\n",
        "    from bs4 import BeautifulSoup\n",
        "    import requests\n",
        "\n"
      ]
    },
    {
      "cell_type": "code",
      "execution_count": null,
      "metadata": {
        "id": "sqmRaMh_0obO",
        "outputId": "0c51d8c5-a3f7-44d6-adea-19705aef0919"
      },
      "outputs": [
        {
          "name": "stderr",
          "output_type": "stream",
          "text": [
            "No model was supplied, defaulted to sshleifer/distilbart-cnn-12-6 and revision a4f8f3e (https://huggingface.co/sshleifer/distilbart-cnn-12-6).\n",
            "Using a pipeline without specifying a model name and revision in production is not recommended.\n"
          ]
        }
      ],
      "source": [
        "summarizer = pipeline(\"summarization\")"
      ]
    },
    {
      "cell_type": "code",
      "execution_count": null,
      "metadata": {
        "id": "LpxvykeP0obP"
      },
      "outputs": [],
      "source": [
        "URL = \"https://en.wikipedia.org/wiki/Machine_learning\""
      ]
    },
    {
      "cell_type": "code",
      "execution_count": null,
      "metadata": {
        "id": "woqh4ySA0obP"
      },
      "outputs": [],
      "source": [
        "\n",
        "r = requests.get(URL)"
      ]
    },
    {
      "cell_type": "code",
      "execution_count": null,
      "metadata": {
        "id": "Z92vOjyN0obP"
      },
      "outputs": [],
      "source": [
        "soup = BeautifulSoup(r.text, 'html.parser')\n",
        "results = soup.find_all(['h1', 'p'])\n",
        "text = [result.text for result in results]\n",
        "ARTICLE = ' '.join(text)"
      ]
    },
    {
      "cell_type": "code",
      "execution_count": null,
      "metadata": {
        "id": "qotFY9VT0obQ"
      },
      "outputs": [],
      "source": [
        "ARTICLE = ARTICLE.replace('.', '.')\n",
        "ARTICLE = ARTICLE.replace('?', '.')\n",
        "ARTICLE = ARTICLE.replace('!', '.')\n",
        "sentences = ARTICLE.split('.')"
      ]
    },
    {
      "cell_type": "code",
      "execution_count": null,
      "metadata": {
        "id": "lnCNnAQg0obR",
        "outputId": "f602a958-ecc8-40f3-a7c1-07c988785858"
      },
      "outputs": [
        {
          "data": {
            "text/plain": [
              "['Machine learning Machine learning (ML) is a field of inquiry devoted to understanding and building methods that \"learn\"\\xa0– that is, methods that leverage data to improve performance on some set of tasks',\n",
              " '[1] It is seen as a part of artificial intelligence',\n",
              " ' \\n Machine learning algorithms build a model based on sample data, known as training data, in order to make predictions or decisions without being explicitly programmed to do so',\n",
              " '[2] Machine learning algorithms are used in a wide variety of applications, such as in medicine, email filtering, speech recognition, agriculture, and computer vision, where it is difficult or unfeasible to develop conventional algorithms to perform the needed tasks',\n",
              " '[3][4]\\n A subset of machine learning is closely related to computational statistics, which focuses on making predictions using computers, but not all machine learning is statistical learning',\n",
              " ' The study of mathematical optimization delivers methods, theory and application domains to the field of machine learning',\n",
              " ' Data mining is a related field of study, focusing on exploratory data analysis through unsupervised learning',\n",
              " '[6][7]\\n Some implementations of machine learning use data and neural networks in a way that mimics the working of a biological brain',\n",
              " '[8][9]\\n In its application across business problems, machine learning is also referred to as predictive analytics',\n",
              " '\\n Learning algorithms work on the basis that strategies, algorithms, and inferences that worked well in the past are likely to continue working well in the future',\n",
              " ' These inferences can be obvious, such as \"since the sun rose every morning for the last 10,000 days, it will probably rise tomorrow morning as well\"',\n",
              " ' They can be nuanced, such as \"X% of families have geographically separate species with color variants, so there is a Y% chance that undiscovered black swans exist\"',\n",
              " '[10]\\n Machine learning programs can perform tasks without being explicitly programmed to do so',\n",
              " ' It involves computers learning from data provided so that they carry out certain tasks',\n",
              " \" For simple tasks assigned to computers, it is possible to program algorithms telling the machine how to execute all steps required to solve the problem at hand; on the computer's part, no learning is needed\",\n",
              " ' For more advanced tasks, it can be challenging for a human to manually create the needed algorithms',\n",
              " ' In practice, it can turn out to be more effective to help the machine develop its own algorithm, rather than having human programmers specify every needed step',\n",
              " '[11]\\n The discipline of machine learning employs various approaches to teach computers to accomplish tasks where no fully satisfactory algorithm is available',\n",
              " ' In cases where vast numbers of potential answers exist, one approach is to label some of the correct answers as valid',\n",
              " ' This can then be used as training data for the computer to improve the algorithm(s) it uses to determine correct answers',\n",
              " ' For example, to train a system for the task of digital character recognition, the MNIST dataset of handwritten digits has often been used',\n",
              " '[11]\\n The term machine learning was coined in 1959 by Arthur Samuel, an IBM employee and pioneer in the field of computer gaming and artificial intelligence',\n",
              " '[12][13] The synonym self-teaching computers was also used in this time period',\n",
              " '[14][15]\\n By the early 1960s an experimental \"learning machine\" with punched tape memory, called CyberTron, had been developed by Raytheon Company to analyze sonar signals, electrocardiograms, and speech patterns using rudimentary reinforcement learning',\n",
              " ' It was repetitively \"trained\" by a human operator/teacher to recognize patterns and equipped with a \"goof\" button to cause it to re-evaluate incorrect decisions',\n",
              " \"[16] A representative book on research into machine learning during the 1960s was Nilsson's book on Learning Machines, dealing mostly with machine learning for pattern classification\",\n",
              " '[17] Interest related to pattern recognition continued into the 1970s, as described by Duda and Hart in 1973',\n",
              " '[18] In 1981 a report was given on using teaching strategies so that a neural network learns to recognize 40 characters (26 letters, 10 digits, and 4 special symbols) from a computer terminal',\n",
              " '[19]\\n Tom M',\n",
              " ' Mitchell provided a widely quoted, more formal definition of the algorithms studied in the machine learning field: \"A computer program is said to learn from experience E with respect to some class of tasks T and performance measure P if its performance at tasks in T, as measured by P,  improves with experience E',\n",
              " '\"[20] This definition of the tasks in which machine learning is concerned offers a fundamentally operational definition rather than defining the field in cognitive terms',\n",
              " ' This follows Alan Turing\\'s proposal in his paper \"Computing Machinery and Intelligence\", in which the question \"Can machines think',\n",
              " '\" is replaced with the question \"Can machines do what we (as thinking entities) can do',\n",
              " '\"',\n",
              " '[21]\\n Modern-day machine learning has two objectives, one is to classify data based on models which have been developed, the other purpose is to make predictions for future outcomes based on these models',\n",
              " ' A hypothetical algorithm specific to classifying data may use computer vision of moles coupled with supervised learning in order to train it to classify the cancerous moles',\n",
              " ' A machine learning algorithm for stock trading may inform the trader of future potential predictions',\n",
              " '[22]\\n As a scientific endeavor, machine learning grew out of the quest for artificial intelligence',\n",
              " ' In the early days of AI as an academic discipline, some researchers were interested in having machines learn from data',\n",
              " ' They attempted to approach the problem with various symbolic methods, as well as what was then termed \"neural networks\"; these were mostly perceptrons and other models that were later found to be reinventions of the generalized linear models of statistics',\n",
              " '[25] Probabilistic reasoning was also employed, especially in automated medical diagnosis',\n",
              " '[26]:\\u200a488\\u200a\\n However, an increasing emphasis on the logical, knowledge-based approach caused a rift between AI and machine learning',\n",
              " ' Probabilistic systems were plagued by theoretical and practical problems of data acquisition and representation',\n",
              " '[26]:\\u200a488\\u200a By 1980, expert systems had come to dominate AI, and statistics was out of favor',\n",
              " '[27] Work on symbolic/knowledge-based learning did continue within AI, leading to inductive logic programming, but the more statistical line of research was now outside the field of AI proper, in pattern recognition and information retrieval',\n",
              " '[26]:\\u200a708–710,\\u200a755\\u200a Neural networks research had been abandoned by AI and computer science around the same time',\n",
              " ' This line, too, was continued outside the AI/CS field, as \"connectionism\", by researchers from other disciplines including Hopfield, Rumelhart, and Hinton',\n",
              " ' Their main success came in the mid-1980s with the reinvention of backpropagation',\n",
              " '[26]:\\u200a25\\u200a\\n Machine learning (ML), reorganized as a separate field, started to flourish in the 1990s',\n",
              " ' The field changed its goal from achieving artificial intelligence to tackling solvable problems of a practical nature',\n",
              " ' It shifted focus away from the symbolic approaches it had inherited from AI, and toward methods and models borrowed from statistics, fuzzy logic, and probability theory',\n",
              " '[27]\\n The difference between ML and AI is frequently misunderstood',\n",
              " ' ML learns and predicts based on passive observations, whereas AI implies an agent interacting with the environment to learn and take actions that maximize its chance of successfully achieving its goals',\n",
              " '[28]\\n As of 2020, many sources continue to assert that ML remains a subfield of AI',\n",
              " \"[29][30][27] Others have the view that not all ML is part of AI, but only an 'intelligent subset' of ML should be considered AI\",\n",
              " '[5][31][32]\\n Machine learning and data mining often employ the same methods and overlap significantly, but while machine learning focuses on prediction, based on known properties learned from the training data, data mining focuses on the discovery of (previously) unknown properties in the data (this is the analysis step of knowledge discovery in databases)',\n",
              " ' Data mining uses many machine learning methods, but with different goals; on the other hand, machine learning also employs data mining methods as \"unsupervised learning\" or as a preprocessing step to improve learner accuracy',\n",
              " ' Much of the confusion between these two research communities (which do often have separate conferences and separate journals, ECML PKDD being a major exception) comes from the basic assumptions they work with: in machine learning, performance is usually evaluated with respect to the ability to reproduce known knowledge, while in knowledge discovery and data mining (KDD) the key task is the discovery of previously unknown knowledge',\n",
              " ' Evaluated with respect to known knowledge, an uninformed (unsupervised) method will easily be outperformed by other supervised methods, while in a typical KDD task, supervised methods cannot be used due to the unavailability of training data',\n",
              " '\\n Machine learning also has intimate ties to optimization: many learning problems are formulated as minimization of some loss function on a training set of examples',\n",
              " ' Loss functions express the discrepancy between the predictions of the model being trained and the actual problem instances (for example, in classification, one wants to assign a label to instances, and models are trained to correctly predict the pre-assigned labels of a set of examples)',\n",
              " '[33]\\n The difference between optimization and machine learning arises from the goal of generalization: while optimization algorithms can minimize the loss on a training set, machine learning is concerned with minimizing the loss on unseen samples',\n",
              " ' Characterizing the generalization of various learning algorithms is an active topic of current research, especially for deep learning algorithms',\n",
              " '\\n Machine learning and statistics are closely related fields in terms of methods, but distinct in their principal goal: statistics draws population inferences from a sample, while machine learning finds generalizable predictive patterns',\n",
              " '[34] According to Michael I',\n",
              " ' Jordan, the ideas of machine learning, from methodological principles to theoretical tools, have had a long pre-history in statistics',\n",
              " '[35] He also suggested the term data science as a placeholder to call the overall field',\n",
              " '[35]\\n Leo Breiman distinguished two statistical modeling paradigms: data model and algorithmic model,[29] wherein \"algorithmic model\" means more or less the machine learning algorithms like Random Forest',\n",
              " '\\n Some statisticians have adopted methods from machine learning, leading to a combined field that they call statistical learning',\n",
              " '[30]\\n Analytical and computational techniques derived from statistical physics of disordered systems, can be extended to large-scale problems, including machine learning, e',\n",
              " 'g',\n",
              " ', to analyze the weight space of deep neural networks',\n",
              " '[36] Statistical physics is thus finding applications in the area of medical diagnostics',\n",
              " '[37]\\n A core objective of a learner is to generalize from its experience',\n",
              " '[5][31] Generalization in this context is the ability of a learning machine to perform accurately on new, unseen examples/tasks after having experienced a learning data set',\n",
              " ' The training examples come from some generally unknown probability distribution (considered representative of the space of occurrences) and the learner has to build a general model about this space that enables it to produce sufficiently accurate predictions in new cases',\n",
              " '\\n The computational analysis of machine learning algorithms and their performance is a branch of theoretical computer science known as computational learning theory via the Probably Approximately Correct Learning (PAC) model',\n",
              " ' Because training sets are finite and the future is uncertain, learning theory usually does not yield guarantees of the performance of algorithms',\n",
              " ' Instead, probabilistic bounds on the performance are quite common',\n",
              " ' The bias–variance decomposition is one way to quantify generalization error',\n",
              " '\\n For the best performance in the context of generalization, the complexity of the hypothesis should match the complexity of the function underlying the data',\n",
              " ' If the hypothesis is less complex than the function, then the model has under fitted the data',\n",
              " ' If the complexity of the model is increased in response, then the training error decreases',\n",
              " ' But if the hypothesis is too complex, then the model is subject to overfitting and generalization will be poorer',\n",
              " '[32]\\n In addition to performance bounds, learning theorists study the time complexity and feasibility of learning',\n",
              " ' In computational learning theory, a computation is considered feasible if it can be done in polynomial time',\n",
              " ' There are two kinds of time complexity results: Positive results show that a certain class of functions can be learned in polynomial time',\n",
              " ' Negative results show that certain classes cannot be learned in polynomial time',\n",
              " '\\n \\nMachine learning approaches are traditionally divided into three broad categories, which correspond to learning paradigms, depending on the nature of the \"signal\" or \"feedback\" available to the learning system:\\n Supervised learning algorithms build a mathematical model of a set of data that contains both the inputs and the desired outputs',\n",
              " '[38] The data is known as training data, and consists of a set of training examples',\n",
              " ' Each training example has one or more inputs and the desired output, also known as a supervisory signal',\n",
              " '  In the mathematical model, each training example is represented by an array or vector, sometimes called a feature vector, and the training data is represented by a matrix',\n",
              " ' Through iterative optimization of an objective function, supervised learning algorithms learn a function that can be used to predict the output associated with new inputs',\n",
              " '[39] An optimal function will allow the algorithm to correctly determine the output for inputs that were not a part of the training data',\n",
              " ' An algorithm that improves the accuracy of its outputs or predictions over time is said to have learned to perform that task',\n",
              " '[20]\\n Types of supervised-learning algorithms include active learning, classification and regression',\n",
              " '[28] Classification algorithms are used when the outputs are restricted to a limited set of values, and regression algorithms are used when the outputs may have any numerical value within a range',\n",
              " ' As an example, for a classification algorithm that filters emails, the input would be an incoming email, and the output would be the name of the folder in which to file the email',\n",
              " '\\n Similarity learning is an area of supervised machine learning closely related to regression and classification, but the goal is to learn from examples using a similarity function that measures how similar or related two objects are',\n",
              " ' It has applications in ranking, recommendation systems, visual identity tracking, face verification, and speaker verification',\n",
              " '\\n Unsupervised learning algorithms take a set of data that contains only inputs, and find structure in the data, like grouping or clustering of data points',\n",
              " ' The algorithms, therefore, learn from test data that has not been labeled, classified or categorized',\n",
              " ' Instead of responding to feedback, unsupervised learning algorithms identify commonalities in the data and react based on the presence or absence of such commonalities in each new piece of data',\n",
              " ' A central application of unsupervised learning is in the field of density estimation in statistics, such as finding the probability density function',\n",
              " '[40] Though unsupervised learning encompasses other domains involving summarizing and explaining data features',\n",
              " '\\n Cluster analysis is the assignment of a set of observations into subsets (called clusters) so that observations within the same cluster are similar according to one or more predesignated criteria, while observations drawn from different clusters are dissimilar',\n",
              " ' Different clustering techniques make different assumptions on the structure of the data, often defined by some similarity metric and evaluated, for example, by internal compactness, or the similarity between members of the same cluster, and separation, the difference between clusters',\n",
              " ' Other methods are based on estimated density and graph connectivity',\n",
              " '\\n Semi-supervised learning falls between unsupervised learning (without any labeled training data) and supervised learning (with completely labeled training data)',\n",
              " ' Some of the training examples are missing training labels, yet many machine-learning researchers have found that unlabeled data, when used in conjunction with a small amount of labeled data, can produce a considerable improvement in learning accuracy',\n",
              " '\\n In weakly supervised learning, the training labels are noisy, limited, or imprecise; however, these labels are often cheaper to obtain, resulting in larger effective training sets',\n",
              " '[41]\\n Reinforcement learning is an area of machine learning concerned with how software agents ought to take actions in an environment so as to maximize some notion of cumulative reward',\n",
              " ' Due to its generality, the field is studied in many other disciplines, such as game theory, control theory, operations research, information theory, simulation-based optimization, multi-agent systems, swarm intelligence, statistics and genetic algorithms',\n",
              " ' In machine learning, the environment is typically represented as a Markov decision process (MDP)',\n",
              " ' Many reinforcements learning algorithms use dynamic programming techniques',\n",
              " '[42] Reinforcement learning algorithms do not assume knowledge of an exact mathematical model of the MDP and are used when exact models are infeasible',\n",
              " ' Reinforcement learning algorithms are used in autonomous vehicles or in learning to play a game against a human opponent',\n",
              " '\\n Dimensionality reduction is a process of reducing the number of random variables under consideration by obtaining a set of principal variables',\n",
              " '[43] In other words, it is a process of reducing the dimension of the feature set, also called the \"number of features\"',\n",
              " ' Most of the dimensionality reduction techniques can be considered as either feature elimination or extraction',\n",
              " ' One of the popular methods of dimensionality reduction is principal component analysis (PCA)',\n",
              " ' PCA involves changing higher-dimensional data (e',\n",
              " 'g',\n",
              " ', 3D) to a smaller space (e',\n",
              " 'g',\n",
              " ', 2D)',\n",
              " ' This results in a smaller dimension of data (2D instead of 3D), while keeping all original variables in the model without changing the data',\n",
              " '[44]\\nThe manifold hypothesis proposes that high-dimensional data sets lie along low-dimensional manifolds, and many dimensionality reduction techniques make this assumption, leading to the area of manifold learning and manifold regularization',\n",
              " \"\\n Other approaches have been developed which don't fit neatly into this three-fold categorization, and sometimes more than one is used by the same machine learning system\",\n",
              " ' For example, topic modeling, meta-learning',\n",
              " '[45]\\n As of 2022, deep learning is the dominant approach for much ongoing work in the field of machine learning',\n",
              " '[11]\\n Self-learning, as a machine learning paradigm was introduced in 1982 along with a neural network capable of self-learning, named crossbar adaptive array (CAA)',\n",
              " '[46] It is learning with no external rewards and no external teacher advice',\n",
              " ' The CAA self-learning algorithm computes, in a crossbar fashion, both decisions about actions and emotions (feelings) about consequence situations',\n",
              " ' The system is driven by the interaction between cognition and emotion',\n",
              " '[47]\\nThe self-learning algorithm updates a memory matrix W =||w(a,s)|| such that in each iteration executes the following machine learning routine: \\n It is a system with only one input, situation, and only one output, action (or behavior) a',\n",
              " ' There is neither a separate reinforcement input nor an advice input from the environment',\n",
              " ' The backpropagated value (secondary reinforcement) is the emotion toward the consequence situation',\n",
              " ' The CAA exists in two environments, one is the behavioral environment where it behaves, and the other is the genetic environment, wherefrom it initially and only once receives initial emotions about situations to be encountered in the behavioral environment',\n",
              " ' After receiving the genome (species) vector from the genetic environment, the CAA learns a goal-seeking behavior, in an environment that contains both desirable and undesirable situations',\n",
              " '[48]\\n Several learning algorithms aim at discovering better representations of the inputs provided during training',\n",
              " '[49] Classic examples include principal component analysis and cluster analysis',\n",
              " ' Feature learning algorithms, also called representation learning algorithms, often attempt to preserve the information in their input but also transform it in a way that makes it useful, often as a pre-processing step before performing classification or predictions',\n",
              " ' This technique allows reconstruction of the inputs coming from the unknown data-generating distribution, while not being necessarily faithful to configurations that are implausible under that distribution',\n",
              " ' This replaces manual feature engineering, and allows a machine to both learn the features and use them to perform a specific task',\n",
              " '\\n Feature learning can be either supervised or unsupervised',\n",
              " ' In supervised feature learning, features are learned using labeled input data',\n",
              " ' Examples include artificial neural networks, multilayer perceptrons, and supervised dictionary learning',\n",
              " ' In unsupervised feature learning, features are learned with unlabeled input data',\n",
              " '  Examples include dictionary learning, independent component analysis, autoencoders, matrix factorization[50] and various forms of clustering',\n",
              " '[51][52][53]\\n Manifold learning algorithms attempt to do so under the constraint that the learned representation is low-dimensional',\n",
              " ' Sparse coding algorithms attempt to do so under the constraint that the learned representation is sparse, meaning that the mathematical model has many zeros',\n",
              " ' Multilinear subspace learning algorithms aim to learn low-dimensional representations directly from tensor representations for multidimensional data, without reshaping them into higher-dimensional vectors',\n",
              " '[54] Deep learning algorithms discover multiple levels of representation, or a hierarchy of features, with higher-level, more abstract features defined in terms of (or generating) lower-level features',\n",
              " ' It has been argued that an intelligent machine is one that learns a representation that disentangles the underlying factors of variation that explain the observed data',\n",
              " '[55]\\n Feature learning is motivated by the fact that machine learning tasks such as classification often require input that is mathematically and computationally convenient to process',\n",
              " ' However, real-world data such as images, video, and sensory data has not yielded attempts to algorithmically define specific features',\n",
              " ' An alternative is to discover such features or representations through examination, without relying on explicit algorithms',\n",
              " '\\n Sparse dictionary learning is a feature learning method where a training example is represented as a linear combination of basis functions, and is assumed to be a sparse matrix',\n",
              " ' The method is strongly NP-hard and difficult to solve approximately',\n",
              " '[56] A popular heuristic method for sparse dictionary learning is the K-SVD algorithm',\n",
              " ' Sparse dictionary learning has been applied in several contexts',\n",
              " ' In classification, the problem is to determine the class to which a previously unseen training example belongs',\n",
              " ' For a dictionary where each class has already been built, a new training example is associated with the class that is best sparsely represented by the corresponding dictionary',\n",
              " ' Sparse dictionary learning has also been applied in image de-noising',\n",
              " ' The key idea is that a clean image patch can be sparsely represented by an image dictionary, but the noise cannot',\n",
              " '[57]\\n In data mining, anomaly detection, also known as outlier detection, is the identification of rare items, events or observations which raise suspicions by differing significantly from the majority of the data',\n",
              " '[58] Typically, the anomalous items represent an issue such as bank fraud, a structural defect, medical problems or errors in a text',\n",
              " ' Anomalies are referred to as outliers, novelties, noise, deviations and exceptions',\n",
              " '[59]\\n In particular, in the context of abuse and network intrusion detection, the interesting objects are often not rare objects, but unexpected bursts of inactivity',\n",
              " ' This pattern does not adhere to the common statistical definition of an outlier as a rare object',\n",
              " ' Many outlier detection methods (in particular, unsupervised algorithms) will fail on such data unless aggregated appropriately',\n",
              " ' Instead, a cluster analysis algorithm may be able to detect the micro-clusters formed by these patterns',\n",
              " '[60]\\n Three broad categories of anomaly detection techniques exist',\n",
              " '[61] Unsupervised anomaly detection techniques detect anomalies in an unlabeled test data set under the assumption that the majority of the instances in the data set are normal, by looking for instances that seem to fit the least to the remainder of the data set',\n",
              " ' Supervised anomaly detection techniques require a data set that has been labeled as \"normal\" and \"abnormal\" and involves training a classifier (the key difference to many other statistical classification problems is the inherently unbalanced nature of outlier detection)',\n",
              " ' Semi-supervised anomaly detection techniques construct a model representing normal behavior from a given normal training data set and then test the likelihood of a test instance to be generated by the model',\n",
              " '\\n Robot learning is inspired by a multitude of machine learning methods, starting from supervised learning, reinforcement learning,[62][63] and finally meta-learning (e',\n",
              " 'g',\n",
              " ' MAML)',\n",
              " '\\n Association rule learning is a rule-based machine learning method for discovering relationships between variables in large databases',\n",
              " ' It is intended to identify strong rules discovered in databases using some measure of \"interestingness\"',\n",
              " '[64]\\n Rule-based machine learning is a general term for any machine learning method that identifies, learns, or evolves \"rules\" to store, manipulate or apply knowledge',\n",
              " ' The defining characteristic of a rule-based machine learning algorithm is the identification and utilization of a set of relational rules that collectively represent the knowledge captured by the system',\n",
              " ' This is in contrast to other machine learning algorithms that commonly identify a singular model that can be universally applied to any instance in order to make a prediction',\n",
              " '[65] Rule-based machine learning approaches include learning classifier systems, association rule learning, and artificial immune systems',\n",
              " '\\n Based on the concept of strong rules, Rakesh Agrawal, Tomasz Imieliński and Arun Swami introduced association rules for discovering regularities between products in large-scale transaction data recorded by point-of-sale (POS) systems in supermarkets',\n",
              " '[66] For example, the rule \\n\\n\\n\\n{\\n\\no\\nn\\ni\\no\\nn\\ns\\n,\\np\\no\\nt\\na\\nt\\no\\ne\\ns\\n\\n}\\n⇒\\n{\\n\\nb\\nu\\nr\\ng\\ne\\nr\\n\\n}\\n\\n\\n{\\\\displaystyle \\\\{\\\\mathrm {onions,potatoes} \\\\}\\\\Rightarrow \\\\{\\\\mathrm {burger} \\\\}}\\n\\n found in the sales data of a supermarket would indicate that if a customer buys onions and potatoes together, they are likely to also buy hamburger meat',\n",
              " ' Such information can be used as the basis for decisions about marketing activities such as promotional pricing or product placements',\n",
              " ' In addition to market basket analysis, association rules are employed today in application areas including Web usage mining, intrusion detection, continuous production, and bioinformatics',\n",
              " ' In contrast with sequence mining, association rule learning typically does not consider the order of items either within a transaction or across transactions',\n",
              " '\\n Learning classifier systems (LCS) are a family of rule-based machine learning algorithms that combine a discovery component, typically a genetic algorithm, with a learning component, performing either supervised learning, reinforcement learning, or unsupervised learning',\n",
              " ' They seek to identify a set of context-dependent rules that collectively store and apply knowledge in a piecewise manner in order to make predictions',\n",
              " '[67]\\n Inductive logic programming (ILP) is an approach to rule learning using logic programming as a uniform representation for input examples, background knowledge, and hypotheses',\n",
              " ' Given an encoding of the known background knowledge and a set of examples represented as a logical database of facts, an ILP system will derive a hypothesized logic program that entails all positive and no negative examples',\n",
              " ' Inductive programming is a related field that considers any kind of programming language for representing hypotheses (and not only logic programming), such as functional programs',\n",
              " '\\n Inductive logic programming is particularly useful in bioinformatics and natural language processing',\n",
              " ' Gordon Plotkin and Ehud Shapiro laid the initial theoretical foundation for inductive machine learning in a logical setting',\n",
              " '[68][69][70] Shapiro built their first implementation (Model Inference System) in 1981: a Prolog program that inductively inferred logic programs from positive and negative examples',\n",
              " '[71] The term inductive here refers to philosophical induction, suggesting a theory to explain observed facts, rather than mathematical induction, proving a property for all members of a well-ordered set',\n",
              " '\\n Performing machine learning involves creating a model, which is trained on some training data and then can process additional data to make predictions',\n",
              " ' Various types of models have been used and researched for machine learning systems',\n",
              " '\\n Artificial neural networks (ANNs), or connectionist systems, are computing systems vaguely inspired by the biological neural networks that constitute animal brains',\n",
              " ' Such systems \"learn\" to perform tasks by considering examples, generally without being programmed with any task-specific rules',\n",
              " '\\n An ANN is a model based on a collection of connected units or nodes called \"artificial neurons\", which loosely model the neurons in a biological brain',\n",
              " ' Each connection, like the synapses in a biological brain, can transmit information, a \"signal\", from one artificial neuron to another',\n",
              " ' An artificial neuron that receives a signal can process it and then signal additional artificial neurons connected to it',\n",
              " ' In common ANN implementations, the signal at a connection between artificial neurons is a real number, and the output of each artificial neuron is computed by some non-linear function of the sum of its inputs',\n",
              " ' The connections between artificial neurons are called \"edges\"',\n",
              " ' Artificial neurons and edges typically have a weight that adjusts as learning proceeds',\n",
              " ' The weight increases or decreases the strength of the signal at a connection',\n",
              " ' Artificial neurons may have a threshold such that the signal is only sent if the aggregate signal crosses that threshold',\n",
              " ' Typically, artificial neurons are aggregated into layers',\n",
              " ' Different layers may perform different kinds of transformations on their inputs',\n",
              " ' Signals travel from the first layer (the input layer) to the last layer (the output layer), possibly after traversing the layers multiple times',\n",
              " '\\n The original goal of the ANN approach was to solve problems in the same way that a human brain would',\n",
              " ' However, over time, attention moved to performing specific tasks, leading to deviations from biology',\n",
              " ' Artificial neural networks have been used on a variety of tasks, including computer vision, speech recognition, machine translation, social network filtering, playing board and video games and medical diagnosis',\n",
              " '\\n Deep learning consists of multiple hidden layers in an artificial neural network',\n",
              " ' This approach tries to model the way the human brain processes light and sound into vision and hearing',\n",
              " ' Some successful applications of deep learning are computer vision and speech recognition',\n",
              " \"[72]\\n Decision tree learning uses a decision tree as a predictive model to go from observations about an item (represented in the branches) to conclusions about the item's target value (represented in the leaves)\",\n",
              " ' It is one of the predictive modeling approaches used in statistics, data mining, and machine learning',\n",
              " ' Tree models where the target variable can take a discrete set of values are called classification trees; in these tree structures, leaves represent class labels, and branches represent conjunctions of features that lead to those class labels',\n",
              " ' Decision trees where the target variable can take continuous values (typically real numbers) are called regression trees',\n",
              " ' In decision analysis, a decision tree can be used to visually and explicitly represent decisions and decision making',\n",
              " ' In data mining, a decision tree describes data, but the resulting classification tree can be an input for decision-making',\n",
              " '\\n Support-vector machines (SVMs), also known as support-vector networks, are a set of related supervised learning methods used for classification and regression',\n",
              " ' Given a set of training examples, each marked as belonging to one of two categories, an SVM training algorithm builds a model that predicts whether a new example falls into one category',\n",
              " '[73]  An SVM training algorithm is a non-probabilistic, binary, linear classifier, although methods such as Platt scaling exist to use SVM in a probabilistic classification setting',\n",
              " ' In addition to performing linear classification, SVMs can efficiently perform a non-linear classification using what is called the kernel trick, implicitly mapping their inputs into high-dimensional feature spaces',\n",
              " '\\n Regression analysis encompasses a large variety of statistical methods to estimate the relationship between input variables and their associated features',\n",
              " ' Its most common form is linear regression, where a single line is drawn to best fit the given data according to a mathematical criterion such as ordinary least squares',\n",
              " ' The latter is often extended by regularization methods to mitigate overfitting and bias, as in ridge regression',\n",
              " ' When dealing with non-linear problems, go-to models include polynomial regression (for example, used for trendline fitting in Microsoft Excel[74]), logistic regression (often used in statistical classification) or even kernel regression, which introduces non-linearity by taking advantage of the kernel trick to implicitly map input variables to higher-dimensional space',\n",
              " '\\n A Bayesian network, belief network, or directed acyclic graphical model is a probabilistic graphical model that represents a set of random variables and their conditional independence with a directed acyclic graph (DAG)',\n",
              " ' For example, a Bayesian network could represent the probabilistic relationships between diseases and symptoms',\n",
              " ' Given symptoms, the network can be used to compute the probabilities of the presence of various diseases',\n",
              " ' Efficient algorithms exist that perform inference and learning',\n",
              " ' Bayesian networks that model sequences of variables, like speech signals or protein sequences, are called dynamic Bayesian networks',\n",
              " ' Generalizations of Bayesian networks that can represent and solve decision problems under uncertainty are called influence diagrams',\n",
              " '\\n A Gaussian process is a stochastic process in which every finite collection of the random variables in the process has a multivariate normal distribution, and it relies on a pre-defined covariance function, or kernel, that models how pairs of points relate to each other depending on their locations',\n",
              " '\\n Given a set of observed points, or input–output examples, the distribution of the (unobserved) output of a new point as function of its input data can be directly computed by looking like the observed points and the covariances between those points and the new, unobserved point',\n",
              " '\\n Gaussian processes are popular surrogate models in Bayesian optimization used to do hyperparameter optimization',\n",
              " '\\n A genetic algorithm (GA) is a search algorithm and heuristic technique that mimics the process of natural selection, using methods such as mutation and crossover to generate new genotypes in the hope of finding good solutions to a given problem',\n",
              " ' In machine learning, genetic algorithms were used in the 1980s and 1990s',\n",
              " '[76][77] Conversely, machine learning techniques have been used to improve the performance of genetic and evolutionary algorithms',\n",
              " '[78]\\n Typically, machine learning models require a high quantity of reliable data in order for the models to perform accurate predictions',\n",
              " ' When training a machine learning model, machine learning engineers need to target and collect a large and representative sample of data',\n",
              " ' Data from the training set can be as varied as a corpus of text, a collection of images, sensor data, and data collected from individual users of a service',\n",
              " ' Overfitting is something to watch out for when training a machine learning model',\n",
              " ' Trained models derived from biased or non-evaluated data can result in skewed or undesired predictions',\n",
              " ' Bias models may result in detrimental outcomes thereby furthering the negative impacts on society or objectives',\n",
              " ' Algorithmic bias is a potential result of data not being fully prepared for training',\n",
              " ' Machine learning ethics is becoming a field of study and notably be integrated within machine learning engineering teams',\n",
              " \"\\n Federated learning is an adapted form of distributed artificial intelligence to training machine learning models that decentralizes the training process, allowing for users' privacy to be maintained by not needing to send their data to a centralized server\",\n",
              " ' This also increases efficiency by decentralizing the training process to many devices',\n",
              " \" For example, Gboard uses federated machine learning to train search query prediction models on users' mobile phones without having to send individual searches back to Google\",\n",
              " '[79]\\n There are many applications for machine learning, including:\\n In 2006, the media-services provider Netflix held the first \"Netflix Prize\" competition to find a program to better predict user preferences and improve the accuracy of its existing Cinematch movie recommendation algorithm by at least 10%',\n",
              " ' A joint team made up of researchers from AT&T Labs-Research in collaboration with the teams Big Chaos and Pragmatic Theory built an ensemble model to win the Grand Prize in 2009 for $1 million',\n",
              " '[81] Shortly after the prize was awarded, Netflix realized that viewers\\' ratings were not the best indicators of their viewing patterns (\"everything is a recommendation\") and they changed their recommendation engine accordingly',\n",
              " '[82] In 2010 The Wall Street Journal wrote about the firm Rebellion Research and their use of machine learning to predict the financial crisis',\n",
              " '[83] In 2012, co-founder of Sun Microsystems, Vinod Khosla, predicted that 80% of medical doctors jobs would be lost in the next two decades to automated machine learning medical diagnostic software',\n",
              " '[84] In 2014, it was reported that a machine learning algorithm had been applied in the field of art history to study fine art paintings and that it may have revealed previously unrecognized influences among artists',\n",
              " '[85] In 2019 Springer Nature published the first research book created using machine learning',\n",
              " '[86] In 2020, machine learning technology was used to help make diagnoses and aid researchers in developing a cure for COVID-19',\n",
              " '[87] Machine learning was recently applied to predict the pro-environmental behavior of travelers',\n",
              " \"[88] Recently, machine learning technology was also applied to optimize smartphone's performance and thermal behavior based on the user's interaction with the phone\",\n",
              " '[89][90][91]\\n Although machine learning has been transformative in some fields, machine-learning programs often fail to deliver expected results',\n",
              " '[92][93][94] Reasons for this are numerous: lack of (suitable) data, lack of access to the data, data bias, privacy problems, badly chosen tasks and algorithms, wrong tools and people, lack of resources, and evaluation problems',\n",
              " '[95]\\n In 2018, a self-driving car from Uber failed to detect a pedestrian, who was killed after a collision',\n",
              " '[96] Attempts to use machine learning in healthcare with the IBM Watson system failed to deliver even after years of time and billions of dollars invested',\n",
              " '[97][98]\\n Machine learning has been used as a strategy to update the evidence related to a systematic review and increased reviewer burden related to the growth of biomedical literature',\n",
              " ' While it has improved with training sets, it has not yet developed sufficiently to reduce the workload burden without limiting the necessary sensitivity for the findings research themselves',\n",
              " '[99]\\n Machine learning approaches in particular can suffer from different data biases',\n",
              " ' A machine learning system trained specifically on current customers may not be able to predict the needs of new customer groups that are not represented in the training data',\n",
              " ' When trained on man-made data, machine learning is likely to pick up the constitutional and unconscious biases already present in society',\n",
              " '[100] Language models learned from data have been shown to contain human-like biases',\n",
              " '[101][102] Machine learning systems used for criminal risk assessment have been found to be biased against black people',\n",
              " '[103][104] In 2015, Google photos would often tag black people as gorillas,[105] and in 2018 this still was not well resolved, but Google reportedly was still using the workaround to remove all gorillas from the training data, and thus was not able to recognize real gorillas at all',\n",
              " '[106] Similar issues with recognizing non-white people have been found in many other systems',\n",
              " '[107] In 2016, Microsoft tested a chatbot that learned from Twitter, and it quickly picked up racist and sexist language',\n",
              " '[108] Because of such challenges, the effective use of machine learning may take longer to be adopted in other domains',\n",
              " '[109] Concern for fairness in machine learning, that is, reducing bias in machine learning and propelling its use for human good is increasingly expressed by artificial intelligence scientists, including Fei-Fei Li, who reminds engineers that \"There\\'s nothing artificial about AI',\n",
              " '',\n",
              " '',\n",
              " \"It's inspired by people, it's created by people, and—most importantly—it impacts people\",\n",
              " ' It is a powerful tool we are only just beginning to understand, and that is a profound responsibility',\n",
              " '\"[110]\\n Explainable AI (XAI), or Interpretable AI, or Explainable Machine Learning (XML), is artificial intelligence (AI) in which humans can understand the decisions or predictions made by the AI',\n",
              " ' It contrasts with the \"black box\" concept in machine learning where even its designers cannot explain why an AI arrived at a specific decision',\n",
              " ' By refining the mental models of users of AI-powered systems and dismantling their misconceptions, XAI promises to help users perform more effectively',\n",
              " ' XAI may be an implementation of the social right to explanation',\n",
              " '\\n Settling on a bad, overly complex theory gerrymandered to fit all the past training data is known as overfitting',\n",
              " ' Many systems attempt to reduce overfitting by rewarding a theory in accordance with how well it fits the data but penalizing the theory in accordance with how complex the theory is',\n",
              " '[10]\\n Learners can also disappoint by \"learning the wrong lesson\"',\n",
              " ' A toy example is that an image classifier trained only on pictures of brown horses and black cats might conclude that all brown patches are likely to be horses',\n",
              " \"[111] A real-world example is that, unlike humans, current image classifiers often don't primarily make judgments from the spatial relationship between components of the picture, and they learn relationships between pixels that humans are oblivious to, but that still correlate with images of certain types of real objects\",\n",
              " ' Modifying these patterns on a legitimate image can result in \"adversarial\" images that the system misclassifies',\n",
              " '[112][113]\\n Adversarial vulnerabilities can also result in nonlinear systems, or from non-pattern perturbations',\n",
              " ' Some systems are so brittle that changing a single adversarial pixel predictably induces misclassification',\n",
              " '[citation needed] Machine learning models are often vulnerable to manipulation and/or evasion via adversarial machine learning',\n",
              " '[114]\\n Researchers have demonstrated how backdoors can be placed undetectably into classifying (e',\n",
              " 'g',\n",
              " ', for categories \"spam\" and well-visible \"not spam\" of posts) machine learning models which are often developed and/or trained by third parties',\n",
              " ' Parties can change the classification of any input, including in cases for which a type of data/software transparency is provided, possibly including white-box access',\n",
              " '[115][116][117]\\n Classification of machine learning models can be validated by accuracy estimation techniques like the holdout method, which splits the data in a training and test set (conventionally 2/3 training set and 1/3 test set designation) and evaluates the performance of the training model on the test set',\n",
              " ' In comparison, the K-fold-cross-validation method randomly partitions the data into K subsets and then K experiments are performed each respectively considering 1 subset for evaluation and the remaining K-1 subsets for training the model',\n",
              " ' In addition to the holdout and cross-validation methods, bootstrap, which samples n instances with replacement from the dataset, can be used to assess model accuracy',\n",
              " '[118]\\n In addition to overall accuracy, investigators frequently report sensitivity and specificity meaning True Positive Rate (TPR) and True Negative Rate (TNR) respectively',\n",
              " ' Similarly, investigators sometimes report the false positive rate (FPR) as well as the false negative rate (FNR)',\n",
              " ' However, these rates are ratios that fail to reveal their numerators and denominators',\n",
              " \" The total operating characteristic (TOC) is an effective method to express a model's diagnostic ability\",\n",
              " \" TOC shows the numerators and denominators of the previously mentioned rates, thus TOC provides more information than the commonly used receiver operating characteristic (ROC) and ROC's associated area under the curve (AUC)\",\n",
              " '[119]\\n Machine learning poses a host of ethical questions',\n",
              " ' Systems that are trained on datasets collected with biases may exhibit these biases upon use (algorithmic bias), thus digitizing cultural prejudices',\n",
              " \"[120] For example, in 1988, the UK's Commission for Racial Equality found that St\",\n",
              " \" George's Medical School had been using a computer program trained from data of previous admissions staff and this program had denied nearly 60 candidates who were found to be either women or had non-European sounding names\",\n",
              " '[100] Using job hiring data from a firm with racist hiring policies may lead to a machine learning system duplicating the bias by scoring job applicants by similarity to previous successful applicants',\n",
              " '[121][122] Responsible collection of data and documentation of algorithmic rules used by a system thus is a critical part of machine learning',\n",
              " '\\n AI can be well-equipped to make decisions in technical fields, which rely heavily on data and historical information',\n",
              " ' These decisions rely on the objectivity and logical reasoning',\n",
              " '[123] Because human languages contain biases, machines trained on language corpora will necessarily also learn these biases',\n",
              " '[124][125]\\n Other forms of ethical challenges, not related to personal biases, are seen in health care',\n",
              " \" There are concerns among health care professionals that these systems might not be designed in the public's interest but as income-generating machines\",\n",
              " '[126] This is especially true in the United States where there is a long-standing ethical dilemma of improving health care, but also increase profits',\n",
              " \" For example, the algorithms could be designed to provide patients with unnecessary tests or medication in which the algorithm's proprietary owners hold stakes\",\n",
              " ' There is potential for machine learning in health care to provide professionals an additional tool to diagnose, medicate, and plan recovery paths for patients, but this requires these biases to be mitigated',\n",
              " '[127]\\n Since the 2010s, advances in both machine learning algorithms and computer hardware have led to more efficient methods for training deep neural networks (a particular narrow subdomain of machine learning) that contain many layers of non-linear hidden units',\n",
              " '[128] By 2019, graphic processing units (GPUs), often with AI-specific enhancements, had displaced CPUs as the dominant method of training large-scale commercial cloud AI',\n",
              " '[129] OpenAI estimated the hardware computing used in the largest deep learning projects from AlexNet (2012) to AlphaZero (2017), and found a 300,000-fold increase in the amount of compute required, with a doubling-time trendline of 3',\n",
              " '4 months',\n",
              " '[130][131]\\n A physical neural network or Neuromorphic computer  is a type of artificial neural network in which an electrically adjustable material is used to emulate the function of a neural synapse',\n",
              " ' \"Physical\" neural network is used to emphasize the reliance on physical hardware used to emulate neurons as opposed to software-based approaches',\n",
              " ' More generally the term is applicable to other artificial neural networks in which a memristor or other electrically adjustable resistance material is used to emulate a neural synapse',\n",
              " '[132][133]\\n Embedded Machine Learning is a sub-field of machine learning, where the machine learning model is run on embedded systems with limited computing resources such as wearable computers, edge devices and microcontrollers',\n",
              " '[134][135][136] Running machine learning model in embedded devices removes the need for transferring and storing data on cloud servers for further processing, henceforth, reducing data breaches and privacy leaks happening because of transferring data, and also minimizes theft of intellectual properties, personal data and business secrets',\n",
              " ' Embedded Machine Learning could be applied through several techniques including hardware acceleration,[137][138] using approximate computing,[139] optimization of machine learning models and many more',\n",
              " '[140][141]\\n Software suites containing a variety of machine learning algorithms include the following:\\n']"
            ]
          },
          "execution_count": 44,
          "metadata": {},
          "output_type": "execute_result"
        }
      ],
      "source": [
        "sentences"
      ]
    },
    {
      "cell_type": "code",
      "execution_count": null,
      "metadata": {
        "id": "GBMWpOFu0obR",
        "outputId": "9caca2d0-1b1c-4467-87ba-0b05c80aa7b5"
      },
      "outputs": [
        {
          "ename": "TypeError",
          "evalue": "'int' object is not callable",
          "output_type": "error",
          "traceback": [
            "\u001b[1;31m---------------------------------------------------------------------------\u001b[0m",
            "\u001b[1;31mTypeError\u001b[0m                                 Traceback (most recent call last)",
            "\u001b[1;32m~\\AppData\\Local\\Temp\\ipykernel_9700\\1837728560.py\u001b[0m in \u001b[0;36m<module>\u001b[1;34m\u001b[0m\n\u001b[0;32m      4\u001b[0m \u001b[1;32mfor\u001b[0m \u001b[0msentence\u001b[0m \u001b[1;32min\u001b[0m \u001b[0msentences\u001b[0m\u001b[1;33m:\u001b[0m\u001b[1;33m\u001b[0m\u001b[1;33m\u001b[0m\u001b[0m\n\u001b[0;32m      5\u001b[0m     \u001b[1;31m# checking if we have an empty chunk\u001b[0m\u001b[1;33m\u001b[0m\u001b[1;33m\u001b[0m\u001b[1;33m\u001b[0m\u001b[0m\n\u001b[1;32m----> 6\u001b[1;33m     \u001b[1;32mif\u001b[0m \u001b[0mlen\u001b[0m\u001b[1;33m(\u001b[0m\u001b[0mchunks\u001b[0m\u001b[1;33m)\u001b[0m \u001b[1;33m==\u001b[0m \u001b[0mcurrent_chunk\u001b[0m \u001b[1;33m+\u001b[0m \u001b[1;36m1\u001b[0m\u001b[1;33m:\u001b[0m\u001b[1;33m\u001b[0m\u001b[1;33m\u001b[0m\u001b[0m\n\u001b[0m\u001b[0;32m      7\u001b[0m         \u001b[1;32mif\u001b[0m \u001b[0mlen\u001b[0m\u001b[1;33m(\u001b[0m\u001b[0mchunks\u001b[0m\u001b[1;33m[\u001b[0m\u001b[0mcurrent_chunk\u001b[0m\u001b[1;33m]\u001b[0m\u001b[1;33m)\u001b[0m \u001b[1;33m+\u001b[0m \u001b[0mlen\u001b[0m\u001b[1;33m(\u001b[0m\u001b[0msentence\u001b[0m\u001b[1;33m.\u001b[0m\u001b[0msplit\u001b[0m\u001b[1;33m(\u001b[0m\u001b[1;34m' '\u001b[0m\u001b[1;33m)\u001b[0m\u001b[1;33m)\u001b[0m \u001b[1;33m<=\u001b[0m \u001b[0mmax_chunk\u001b[0m\u001b[1;33m:\u001b[0m\u001b[1;33m\u001b[0m\u001b[1;33m\u001b[0m\u001b[0m\n\u001b[0;32m      8\u001b[0m             \u001b[0mchunks\u001b[0m\u001b[1;33m[\u001b[0m\u001b[0mcurrent_chunk\u001b[0m\u001b[1;33m]\u001b[0m\u001b[1;33m.\u001b[0m\u001b[0mextend\u001b[0m\u001b[1;33m(\u001b[0m\u001b[0msentence\u001b[0m\u001b[1;33m.\u001b[0m\u001b[0msplit\u001b[0m\u001b[1;33m(\u001b[0m\u001b[1;34m' '\u001b[0m\u001b[1;33m)\u001b[0m\u001b[1;33m)\u001b[0m\u001b[1;33m\u001b[0m\u001b[1;33m\u001b[0m\u001b[0m\n",
            "\u001b[1;31mTypeError\u001b[0m: 'int' object is not callable"
          ]
        }
      ],
      "source": [
        "max_chunk = 500\n",
        "current_chunk = 0\n",
        "chunks = []\n",
        "for sentence in sentences:\n",
        "    # checking if we have an empty chunk\n",
        "    if len(chunks) == current_chunk + 1:\n",
        "        if len(chunks[current_chunk]) + len(sentence.split(' ')) <= max_chunk:\n",
        "            chunks[current_chunk].extend(sentence.split(' '))\n",
        "        else:\n",
        "            current_chunk += 1\n",
        "            chunks.append(sentence.split(' '))\n",
        "    else:\n",
        "        print(current_chunk)\n",
        "        chunks.append(sentence.split(' '))\n",
        "\n",
        "for chunk_id in range(len(chunks)):\n",
        "    chunks[chunk_id] = ' '.join(chunks[chunk_id])"
      ]
    },
    {
      "cell_type": "code",
      "execution_count": null,
      "metadata": {
        "id": "1WZcZn4A0obS",
        "outputId": "5cb5fbd2-f742-4618-bfd8-e307fc4f6518"
      },
      "outputs": [
        {
          "name": "stdout",
          "output_type": "stream",
          "text": [
            "Collecting SentencePiece\n",
            "  Downloading sentencepiece-0.1.97-cp37-cp37m-win_amd64.whl (1.1 MB)\n",
            "     ---------------------------------------- 1.1/1.1 MB 2.7 MB/s eta 0:00:00\n",
            "Installing collected packages: SentencePiece\n",
            "Successfully installed SentencePiece-0.1.97\n"
          ]
        },
        {
          "name": "stderr",
          "output_type": "stream",
          "text": [
            "\n",
            "[notice] A new release of pip available: 22.3.1 -> 23.0.1\n",
            "[notice] To update, run: python.exe -m pip install --upgrade pip\n"
          ]
        }
      ],
      "source": [
        "!pip install SentencePiece"
      ]
    },
    {
      "cell_type": "code",
      "execution_count": null,
      "metadata": {
        "id": "sRn4PnCe0obS"
      },
      "outputs": [],
      "source": [
        "def abstractiveSummaryWithPegasus(words):\n",
        "    # importing & loading model\n",
        "    from transformers import PegasusForConditionalGeneration, PegasusTokenizer\n",
        "    tokenizer = PegasusTokenizer.from_pretrained(\"google/pegasus-xsum\")\n",
        "    model = PegasusForConditionalGeneration.from_pretrained(\"google/pegasus-xsum\")\n",
        "\n",
        "    # perform summarization\n",
        "    tokens = tokenizer(words, truncation=True, padding=\"longest\", return_tensors=\"pt\")\n",
        "    summary = model.generate(**tokens)\n",
        "    actual_summ = tokenizer.decode(summary[0])\n",
        "\n",
        "    # returning summary\n",
        "    return actual_summ"
      ]
    },
    {
      "cell_type": "code",
      "execution_count": null,
      "metadata": {
        "id": "KkgSZFDg0obS",
        "outputId": "b4028355-52f4-4ab2-df6e-25ae9f04d0f2",
        "colab": {
          "referenced_widgets": [
            "97361dae59094058a970049776bea786",
            "84de32fe854a4bbcb3173788856d5c03",
            "bc27b6b0e23e4bfb8ad5ead054055366",
            "c4b15116619542269e89796221727d73",
            "c7fb90e43c48403982088036e15d9ef2",
            "d9a2921fbb524f65b06a9d096577b828"
          ]
        }
      },
      "outputs": [
        {
          "data": {
            "application/vnd.jupyter.widget-view+json": {
              "model_id": "97361dae59094058a970049776bea786",
              "version_major": 2,
              "version_minor": 0
            },
            "text/plain": [
              "Downloading (…)ve/main/spiece.model:   0%|          | 0.00/1.91M [00:00<?, ?B/s]"
            ]
          },
          "metadata": {},
          "output_type": "display_data"
        },
        {
          "name": "stderr",
          "output_type": "stream",
          "text": [
            "c:\\Users\\LENOVO\\AppData\\Local\\Programs\\Python\\Python37\\lib\\site-packages\\huggingface_hub\\file_download.py:133: UserWarning: `huggingface_hub` cache-system uses symlinks by default to efficiently store duplicated files but your machine does not support them in C:\\Users\\LENOVO\\.cache\\huggingface\\hub. Caching files will still work but in a degraded version that might require more space on your disk. This warning can be disabled by setting the `HF_HUB_DISABLE_SYMLINKS_WARNING` environment variable. For more details, see https://huggingface.co/docs/huggingface_hub/how-to-cache#limitations.\n",
            "To support symlinks on Windows, you either need to activate Developer Mode or to run Python as an administrator. In order to see activate developer mode, see this article: https://docs.microsoft.com/en-us/windows/apps/get-started/enable-your-device-for-development\n",
            "  warnings.warn(message)\n"
          ]
        },
        {
          "data": {
            "application/vnd.jupyter.widget-view+json": {
              "model_id": "84de32fe854a4bbcb3173788856d5c03",
              "version_major": 2,
              "version_minor": 0
            },
            "text/plain": [
              "Downloading (…)cial_tokens_map.json:   0%|          | 0.00/65.0 [00:00<?, ?B/s]"
            ]
          },
          "metadata": {},
          "output_type": "display_data"
        },
        {
          "data": {
            "application/vnd.jupyter.widget-view+json": {
              "model_id": "bc27b6b0e23e4bfb8ad5ead054055366",
              "version_major": 2,
              "version_minor": 0
            },
            "text/plain": [
              "Downloading (…)okenizer_config.json:   0%|          | 0.00/87.0 [00:00<?, ?B/s]"
            ]
          },
          "metadata": {},
          "output_type": "display_data"
        },
        {
          "data": {
            "application/vnd.jupyter.widget-view+json": {
              "model_id": "c4b15116619542269e89796221727d73",
              "version_major": 2,
              "version_minor": 0
            },
            "text/plain": [
              "Downloading (…)lve/main/config.json:   0%|          | 0.00/1.39k [00:00<?, ?B/s]"
            ]
          },
          "metadata": {},
          "output_type": "display_data"
        },
        {
          "data": {
            "application/vnd.jupyter.widget-view+json": {
              "model_id": "c7fb90e43c48403982088036e15d9ef2",
              "version_major": 2,
              "version_minor": 0
            },
            "text/plain": [
              "Downloading pytorch_model.bin:   0%|          | 0.00/2.28G [00:00<?, ?B/s]"
            ]
          },
          "metadata": {},
          "output_type": "display_data"
        },
        {
          "data": {
            "application/vnd.jupyter.widget-view+json": {
              "model_id": "d9a2921fbb524f65b06a9d096577b828",
              "version_major": 2,
              "version_minor": 0
            },
            "text/plain": [
              "Downloading (…)neration_config.json:   0%|          | 0.00/259 [00:00<?, ?B/s]"
            ]
          },
          "metadata": {},
          "output_type": "display_data"
        },
        {
          "name": "stderr",
          "output_type": "stream",
          "text": [
            "c:\\Users\\LENOVO\\AppData\\Local\\Programs\\Python\\Python37\\lib\\site-packages\\transformers\\generation\\utils.py:1292: UserWarning: Using `max_length`'s default (64) to control the generation length. This behaviour is deprecated and will be removed from the config in v5 of Transformers -- we recommend using `max_new_tokens` to control the maximum length of the generation.\n",
            "  UserWarning,\n"
          ]
        },
        {
          "name": "stdout",
          "output_type": "stream",
          "text": [
            "<pad>The Big Cloud is a network of people who share data and resources.</s>\n"
          ]
        }
      ],
      "source": [
        "word_text = \"\"\"\n",
        "Each participant in the network can choose what they host/provide and can be home to different content. Similar to your home network, you are in control of what you share, and you don’t share everything.\n",
        "\n",
        "This is a core tenet of decentralized identity. The same cryptographic principles underpinning cryptocurrencies like Bitcoin and Ethereum are being leveraged by applications to provide secure, cross-platform identity services. This is fundamentally different from other authentication systems such as OAuth 2.0, where a trusted party has to be reached to assess one's identity. This materializes in the form of “Login with Big Cloud provider” buttons. These cloud providers are the only ones with enough data, resources, and technical expertise.\n",
        "\n",
        "\"\"\"\n",
        "\n",
        "abstractiveSummaryWithPegasus(word_text)"
      ]
    },
    {
      "cell_type": "code",
      "execution_count": null,
      "metadata": {
        "id": "WGCIc63I0obT"
      },
      "outputs": [],
      "source": []
    }
  ],
  "metadata": {
    "kernelspec": {
      "display_name": "Python 3",
      "language": "python",
      "name": "python3"
    },
    "language_info": {
      "codemirror_mode": {
        "name": "ipython",
        "version": 3
      },
      "file_extension": ".py",
      "mimetype": "text/x-python",
      "name": "python",
      "nbconvert_exporter": "python",
      "pygments_lexer": "ipython3",
      "version": "3.7.4"
    },
    "orig_nbformat": 4,
    "colab": {
      "provenance": [],
      "include_colab_link": true
    }
  },
  "nbformat": 4,
  "nbformat_minor": 0
}